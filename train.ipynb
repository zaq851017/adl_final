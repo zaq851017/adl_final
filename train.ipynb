{
 "cells": [
  {
   "cell_type": "code",
   "execution_count": 3,
   "metadata": {},
   "outputs": [],
   "source": [
    "import numpy as np\n",
    "import os\n",
    "import argparse\n",
    "import torch\n",
    "from torch.utils.data import Dataset, DataLoader\n",
    "import torch.nn.functional as F\n",
    "import torch.optim as optim\n",
    "import torch.nn as nn\n",
    "import torchvision.transforms as transforms\n",
    "from torchvision import models\n",
    "import pandas"
   ]
  },
  {
   "cell_type": "code",
   "execution_count": 11,
   "metadata": {},
   "outputs": [],
   "source": [
    "PATH = './release/train/ca_data/'\n",
    "allFileList = os.listdir(PATH)\n",
    "excel_list=[]\n",
    "for file in allFileList:\n",
    "    excel_list.append(pandas.read_excel(PATH+file))\n",
    "    "
   ]
  },
  {
   "cell_type": "code",
   "execution_count": 16,
   "metadata": {},
   "outputs": [
    {
     "name": "stdout",
     "output_type": "stream",
     "text": [
      "     Page No                                      Text  Index  Parent Index  \\\n",
      "0          1                                   入 札 公 告      1           NaN   \n",
      "1          1                         次のとおり一般競争入札に付します。      2           1.0   \n",
      "2          1                                平成３０年１月１８日      3           1.0   \n",
      "3          1                     独立行政法人石油天然ガス・金属鉱物資源機構      4           1.0   \n",
      "4          1                       契約担当役 資源備蓄本部長 渡辺 正俊      5           1.0   \n",
      "..       ...                                       ...    ...           ...   \n",
      "116        4  ① 契約締結日時点で在職している機構ＯＢに係る情報（人数、現在の職名及び機構にお    117         116.0   \n",
      "117        4                                  ける最終職名等）    118         116.0   \n",
      "118        4        ② 直近の事業年度における総売上高又は事業収入及び機構との間の取引高    119         116.0   \n",
      "119        4                                    （４）公表日    120          88.0   \n",
      "120        4                  契約締結日の翌日から起算して原則として９３日以内    121         120.0   \n",
      "\n",
      "    Is Title  Is Table  Tag       Value  \n",
      "0          x       NaN  NaN         NaN  \n",
      "1        NaN       NaN  NaN         NaN  \n",
      "2        NaN       NaN  公告日  平成３０年１月１８日  \n",
      "3        NaN       NaN  NaN         NaN  \n",
      "4        NaN       NaN  NaN         NaN  \n",
      "..       ...       ...  ...         ...  \n",
      "116      NaN       NaN  NaN         NaN  \n",
      "117      NaN       NaN  NaN         NaN  \n",
      "118      NaN       NaN  NaN         NaN  \n",
      "119        x       NaN  NaN         NaN  \n",
      "120      NaN       NaN  NaN         NaN  \n",
      "\n",
      "[121 rows x 8 columns]\n"
     ]
    }
   ],
   "source": [
    "print((excel_list[0]))"
   ]
  },
  {
   "cell_type": "code",
   "execution_count": null,
   "metadata": {},
   "outputs": [],
   "source": []
  }
 ],
 "metadata": {
  "kernelspec": {
   "display_name": "Python 3",
   "language": "python",
   "name": "python3"
  },
  "language_info": {
   "codemirror_mode": {
    "name": "ipython",
    "version": 3
   },
   "file_extension": ".py",
   "mimetype": "text/x-python",
   "name": "python",
   "nbconvert_exporter": "python",
   "pygments_lexer": "ipython3",
   "version": "3.7.6"
  }
 },
 "nbformat": 4,
 "nbformat_minor": 4
}
