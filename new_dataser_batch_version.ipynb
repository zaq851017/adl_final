{
 "cells": [
  {
   "cell_type": "code",
   "execution_count": 1,
   "metadata": {},
   "outputs": [],
   "source": [
    "import torch\n",
    "from torch.utils.data import Dataset, DataLoader\n",
    "import pickle\n",
    "from torch.nn.utils.rnn import pad_sequence"
   ]
  },
  {
   "cell_type": "code",
   "execution_count": 99,
   "metadata": {},
   "outputs": [],
   "source": [
    "class NERset(Dataset):\n",
    "    def __init__(self):\n",
    "        with open(\"textData.pkl\", \"rb\") as f:\n",
    "            self.data = pickle.load(f)\n",
    "\n",
    "    def __getitem__(self, index):\n",
    "        name = self.data[index]['name']\n",
    "        char_tokens_tensors = self.data[index]['char_input']\n",
    "        word_tokens_tensors = self.data[index]['word_input']\n",
    "        label_ids = self.data[index]['char_tag']\n",
    "        segments_tensor = torch.tensor([0]*char_tokens_tensors.shape[0])\n",
    "        return (name,char_tokens_tensors,word_tokens_tensors,segments_tensor,label_ids)\n",
    "\n",
    "    def __len__(self):\n",
    "        return len(self.data)\n",
    "    def create_mini_batch(self,samples):\n",
    "        # sample[0]:name\n",
    "        # sample[1]:char\n",
    "        # sample[2]:word\n",
    "        # sample[3]:segments\n",
    "        # sample[4]:label\n",
    "        \n",
    "        name = [s[0] for s in samples]\n",
    "        char_tokens_tensors = [s[1] for s in samples]\n",
    "        word_tokens_tensors = [s[2] for s in samples]\n",
    "        segments_tensors = [s[3] for s in samples]\n",
    "        label_tensors= [s[4] for s in samples]\n",
    "        \n",
    "        before_pad_length=[]\n",
    "        for i in range(len(char_tokens_tensors)):\n",
    "            before_pad_length.append(char_tokens_tensors[i].shape[0])\n",
    "        \n",
    "        char_tokens_tensors = pad_sequence(char_tokens_tensors,batch_first=True)\n",
    "        word_tokens_tensors = pad_sequence(word_tokens_tensors,batch_first=True)\n",
    "        segments_tensors = pad_sequence(segments_tensors,batch_first=True)\n",
    "        max_pad_length = char_tokens_tensors[0].shape[0]\n",
    "        masks_tensors = torch.zeros(char_tokens_tensors.shape,dtype=torch.long)\n",
    "        masks_tensors = masks_tensors.masked_fill(char_tokens_tensors != 0, 1)\n",
    "        other_label = torch.tensor([1]*1+[0]*20,dtype=torch.float)\n",
    "        other_label = torch.unsqueeze(other_label,0)\n",
    "        \n",
    "        for i in range(len(before_pad_length)):\n",
    "            for j in range(max_pad_length-before_pad_length[i]):\n",
    "                #print(label_tensors[i].shape)\n",
    "                #print(other_label.shape)\n",
    "                label_tensors[i] = torch.cat((label_tensors[i],other_label),0)\n",
    "        r_label_tensors=torch.stack([i for i in (label_tensors)])\n",
    "            \n",
    "        return name,char_tokens_tensors,word_tokens_tensors,masks_tensors,r_label_tensors"
   ]
  },
  {
   "cell_type": "code",
   "execution_count": 100,
   "metadata": {},
   "outputs": [
    {
     "name": "stdout",
     "output_type": "stream",
     "text": [
      "torch.Size([3, 23])\n",
      "torch.Size([3, 23, 21])\n"
     ]
    }
   ],
   "source": [
    "if __name__ == \"__main__\":\n",
    "    dataset = NERset()\n",
    "    dataloader = DataLoader(dataset, batch_size=3, shuffle=False,collate_fn=dataset.create_mini_batch)\n",
    "    for i,data in enumerate(dataloader):\n",
    "        if i==0:\n",
    "            print(data[1].shape)\n",
    "            print(data[4].shape)\n",
    "            break"
   ]
  },
  {
   "cell_type": "code",
   "execution_count": null,
   "metadata": {},
   "outputs": [],
   "source": []
  }
 ],
 "metadata": {
  "kernelspec": {
   "display_name": "Python 3",
   "language": "python",
   "name": "python3"
  },
  "language_info": {
   "codemirror_mode": {
    "name": "ipython",
    "version": 3
   },
   "file_extension": ".py",
   "mimetype": "text/x-python",
   "name": "python",
   "nbconvert_exporter": "python",
   "pygments_lexer": "ipython3",
   "version": "3.7.6"
  }
 },
 "nbformat": 4,
 "nbformat_minor": 4
}
